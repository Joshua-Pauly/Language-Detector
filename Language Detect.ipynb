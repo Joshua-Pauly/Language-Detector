{
 "cells": [
  {
   "cell_type": "code",
   "execution_count": 1,
   "id": "d5ac289a",
   "metadata": {},
   "outputs": [],
   "source": [
    "#NLP Assignment 1 Language detection \n",
    "#Joshua Pauly\n",
    "\n",
    "#Make the necessary imports\n",
    "import os\n",
    "import sys\n",
    "import numpy as np\n",
    "import tarfile\n",
    "import pandas as pd\n",
    "import warnings\n",
    "warnings.filterwarnings(\"ignore\") \n",
    "from zipfile import ZipFile\n",
    "\n",
    "from tensorflow.keras.preprocessing.text import Tokenizer\n",
    "from tensorflow.keras.preprocessing.sequence import pad_sequences\n",
    "from tensorflow.keras.utils import to_categorical\n",
    "from tensorflow.keras.layers import Dense, Input, GlobalMaxPooling1D\n",
    "from tensorflow.keras.layers import Conv1D, MaxPooling1D, Embedding, LSTM\n",
    "from tensorflow.keras.models import Model, Sequential\n",
    "from tensorflow.keras.initializers import Constant\n",
    "\n",
    "\n",
    "import seaborn as sns                       #visualisation\n",
    "import matplotlib.pyplot as plt  "
   ]
  },
  {
   "cell_type": "code",
   "execution_count": 2,
   "id": "6a4a273b",
   "metadata": {},
   "outputs": [],
   "source": [
    "train = pd.read_csv (\"tatoeba\\sentences.top10langs.train.tsv\", sep = '\\t', names=[\"Lang\", \"Sent\"])"
   ]
  },
  {
   "cell_type": "code",
   "execution_count": 3,
   "id": "637e9945",
   "metadata": {},
   "outputs": [
    {
     "name": "stdout",
     "output_type": "stream",
     "text": [
      "  Lang                                               Sent\n",
      "0  spa  Te di mi corazón para que lo ames, ¡no para us...\n",
      "1  spa                             Contamos con tu ayuda.\n",
      "2  spa                Tú eres superficial y materialista.\n",
      "3  spa                    Los límites son para los demás.\n",
      "4  spa  Todos ellos esperaron ansiosamente las vacacio...\n",
      "99863\n"
     ]
    },
    {
     "data": {
      "text/plain": [
       "<AxesSubplot:xlabel='Lang'>"
      ]
     },
     "execution_count": 3,
     "metadata": {},
     "output_type": "execute_result"
    },
    {
     "data": {
      "image/png": "[encoded data removed]",
      "text/plain": [
       "<Figure size 432x288 with 1 Axes>"
      ]
     },
     "metadata": {
      "needs_background": "light"
     },
     "output_type": "display_data"
    }
   ],
   "source": [
    "#Data Exploration\n",
    "#what does the training set look like?\n",
    "print(train.head())\n",
    "# Number of rows\n",
    "print(train.shape[0])\n",
    "#plot sent by lang uage\n",
    "Num_sent = train.groupby(['Lang']).size()\n",
    " \n",
    "# plot the result\n",
    "sns.barplot(x = Num_sent.index, y = Num_sent.values)"
   ]
  },
  {
   "cell_type": "markdown",
   "id": "ec4af592",
   "metadata": {},
   "source": [
    "From the plot we can see that the languages in the training set are each roughly 10k each. this will make training easier as we have a balanced dataset."
   ]
  },
  {
   "cell_type": "code",
   "execution_count": 4,
   "id": "570093fe",
   "metadata": {},
   "outputs": [],
   "source": [
    "#Preprocessing\n",
    "MAX_SEQUENCE_LENGTH = 1000\n",
    "MAX_NUM_WORDS = 20000 \n",
    "EMBEDDING_DIM = 100 \n",
    "VALIDATION_SPLIT = 0.2"
   ]
  },
  {
   "cell_type": "code",
   "execution_count": 5,
   "id": "273186e2",
   "metadata": {},
   "outputs": [
    {
     "name": "stdout",
     "output_type": "stream",
     "text": [
      "Found 101396 unique tokens.\n"
     ]
    }
   ],
   "source": [
    "#Vectorize these text samples into a 2D integer tensor using Keras Tokenizer \n",
    "#Tokenizer is fit on training data only, and that is used to tokenize both train and test data. \n",
    "tokenizer = Tokenizer(num_words=MAX_NUM_WORDS) \n",
    "tokenizer.fit_on_texts(train['Sent']) \n",
    "\n",
    "train_sequences = tokenizer.texts_to_sequences(train['Sent']) #Converting text to a vector of word indexes \n",
    "\n",
    "word_index = tokenizer.word_index \n",
    "\n",
    "print('Found %s unique tokens.' % len(word_index))"
   ]
  },
  {
   "cell_type": "code",
   "execution_count": 6,
   "id": "d1b9118c",
   "metadata": {},
   "outputs": [
    {
     "name": "stdout",
     "output_type": "stream",
     "text": [
      "  Lang                                               Sent  code\n",
      "0  spa  Te di mi corazón para que lo ames, ¡no para us...     8\n",
      "1  spa                             Contamos con tu ayuda.     8\n",
      "2  spa                Tú eres superficial y materialista.     8\n",
      "3  spa                    Los límites son para los demás.     8\n",
      "4  spa  Todos ellos esperaron ansiosamente las vacacio...     8\n"
     ]
    }
   ],
   "source": [
    "train['code'] = train['Lang'].replace({'ber': 0, 'deu': 1, 'eng': 2, 'epo': 3, 'fra': 4, 'hun': 5, 'ita': 6, 'por': 7, 'spa': 8, 'tur': 9})\n",
    "print(train.head())\n"
   ]
  },
  {
   "cell_type": "code",
   "execution_count": 7,
   "id": "78acdf18",
   "metadata": {},
   "outputs": [
    {
     "name": "stdout",
     "output_type": "stream",
     "text": [
      "Splitting the train data into train and valid is done\n"
     ]
    }
   ],
   "source": [
    "#Converting this to sequences to be fed into neural network. Max seq. len is 1000 as set earlier\n",
    "#initial padding of 0s, until vector is of size MAX_SEQUENCE_LENGTH\n",
    "trainvalid_data = pad_sequences(train_sequences, maxlen=MAX_SEQUENCE_LENGTH)\n",
    "#test_data = pad_sequences(test_sequences, maxlen=MAX_SEQUENCE_LENGTH)\n",
    "\n",
    "trainvalid_labels = to_categorical(np.asarray(train['code']))\n",
    "#test_labels = to_categorical(np.asarray(test_labels))\n",
    "\n",
    "# split the training data into a training set and a validation set\n",
    "indices = np.arange(trainvalid_data.shape[0])\n",
    "np.random.shuffle(indices)\n",
    "trainvalid_data = trainvalid_data[indices]\n",
    "trainvalid_labels = trainvalid_labels[indices]\n",
    "num_validation_samples = int(VALIDATION_SPLIT * trainvalid_data.shape[0])\n",
    "\n",
    "x_train = trainvalid_data[:-num_validation_samples]\n",
    "y_train = trainvalid_labels[:-num_validation_samples]\n",
    "x_val = trainvalid_data[-num_validation_samples:]\n",
    "y_val = trainvalid_labels[-num_validation_samples:]\n",
    "\n",
    "#This is the data we will use for CNN and RNN training\n",
    "print('Splitting the train data into train and valid is done')"
   ]
  },
  {
   "cell_type": "code",
   "execution_count": 8,
   "id": "389747f6",
   "metadata": {},
   "outputs": [
    {
     "name": "stdout",
     "output_type": "stream",
     "text": [
      "(79891, 10)\n"
     ]
    }
   ],
   "source": [
    "print(y_train.shape)"
   ]
  },
  {
   "cell_type": "code",
   "execution_count": 9,
   "id": "61bca9d1",
   "metadata": {},
   "outputs": [
    {
     "name": "stdout",
     "output_type": "stream",
     "text": [
      "10\n"
     ]
    }
   ],
   "source": [
    "# total number of tags\n",
    "NUM_CLASSES = y_train.shape[1]\n",
    "print(NUM_CLASSES)"
   ]
  },
  {
   "cell_type": "markdown",
   "id": "da8387fd",
   "metadata": {},
   "source": [
    "LSTM RNN Model"
   ]
  },
  {
   "cell_type": "code",
   "execution_count": 11,
   "id": "2d275ed6",
   "metadata": {},
   "outputs": [
    {
     "name": "stdout",
     "output_type": "stream",
     "text": [
      "Defining and training an LSTM model, training embedding layer on the fly\n"
     ]
    }
   ],
   "source": [
    "print(\"Defining and training an LSTM model, training embedding layer on the fly\")\n",
    "\n",
    "#model\n",
    "rnnmodel = Sequential()\n",
    "rnnmodel.add(Embedding(MAX_NUM_WORDS, 128))\n",
    "rnnmodel.add(LSTM(128, dropout=0.2, recurrent_dropout=0.2))\n",
    "rnnmodel.add(Dense(10, activation='softmax'))\n",
    "rnnmodel.compile(loss='binary_crossentropy',\n",
    "              optimizer='adam',\n",
    "              metrics=['accuracy'])\n"
   ]
  },
  {
   "cell_type": "code",
   "execution_count": null,
   "id": "9da9487a",
   "metadata": {},
   "outputs": [],
   "source": [
    "print('Training the RNN')\n",
    "\n",
    "rnnmodel.fit(x_train, y_train,\n",
    "          batch_size=128,\n",
    "          epochs=2,\n",
    "          validation_data=(x_val, y_val))\n",
    "score, acc = rnnmodel.evaluate(x_train, y_train,\n",
    "                            batch_size=32)\n",
    "print('Test accuracy with RNN:', acc)"
   ]
  },
  {
   "cell_type": "code",
   "execution_count": null,
   "id": "73c35a14",
   "metadata": {},
   "outputs": [],
   "source": [
    "rnnmodel.save_weights(\"rnnmodel.h5\")"
   ]
  },
  {
   "cell_type": "code",
   "execution_count": 12,
   "id": "454a768b",
   "metadata": {},
   "outputs": [],
   "source": [
    "rnnmodel.load_weights(\"rnnmodel.h5\")"
   ]
  },
  {
   "cell_type": "code",
   "execution_count": 13,
   "id": "a50e6dfb",
   "metadata": {},
   "outputs": [],
   "source": [
    "#Preprocess Test Data\n",
    "\n",
    "test = pd.read_csv (\"tatoeba\\sentences.top10langs.dev.tsv\", sep = '\\t', names=[\"Lang\", \"Sent\"])\n",
    "test['code'] = test['Lang'].replace({'ber': 0, 'deu': 1, 'eng': 2, 'epo': 3, 'fra': 4, 'hun': 5, 'ita': 6, 'por': 7, 'spa': 8, 'tur': 9})\n",
    "\n",
    "test_sequences = tokenizer.texts_to_sequences(test['Sent']) \n",
    "test_data = pad_sequences(test_sequences, maxlen=MAX_SEQUENCE_LENGTH)\n",
    "test_labels = to_categorical(np.asarray(test['code']))"
   ]
  },
  {
   "cell_type": "code",
   "execution_count": 14,
   "id": "4d71aef1",
   "metadata": {},
   "outputs": [
    {
     "name": "stdout",
     "output_type": "stream",
     "text": [
      "10\n",
      "10\n",
      "313/313 [==============================] - 30s 92ms/step - loss: 0.0115 - accuracy: 0.9805\n",
      "Test accuracy with RNN: 0.9804999828338623\n"
     ]
    }
   ],
   "source": [
    "#Test accuracy on test data\n",
    "\n",
    "score, acc = rnnmodel.evaluate(test_data, test_labels,\n",
    "                            batch_size=32)\n",
    "print('Test accuracy with RNN:', acc)"
   ]
  },
  {
   "cell_type": "code",
   "execution_count": 15,
   "id": "22d55c15",
   "metadata": {},
   "outputs": [
    {
     "name": "stdout",
     "output_type": "stream",
     "text": [
      "Requirement already satisfied: shap in c:\\users\\15184\\anaconda3\\lib\\site-packages (0.44.1)\n",
      "Requirement already satisfied: pandas in c:\\users\\15184\\anaconda3\\lib\\site-packages (from shap) (1.2.4)\n",
      "Requirement already satisfied: scikit-learn in c:\\users\\15184\\anaconda3\\lib\\site-packages (from shap) (1.0.2)\n",
      "Requirement already satisfied: scipy in c:\\users\\15184\\anaconda3\\lib\\site-packages (from shap) (1.7.3)\n",
      "Requirement already satisfied: slicer==0.0.7 in c:\\users\\15184\\anaconda3\\lib\\site-packages (from shap) (0.0.7)\n",
      "Requirement already satisfied: numba in c:\\users\\15184\\anaconda3\\lib\\site-packages (from shap) (0.55.1)\n",
      "Requirement already satisfied: numpy in c:\\users\\15184\\anaconda3\\lib\\site-packages (from shap) (1.21.5)\n",
      "Requirement already satisfied: packaging>20.9 in c:\\users\\15184\\anaconda3\\lib\\site-packages (from shap) (21.3)\n",
      "Requirement already satisfied: cloudpickle in c:\\users\\15184\\anaconda3\\lib\\site-packages (from shap) (2.0.0)\n",
      "Requirement already satisfied: tqdm>=4.27.0 in c:\\users\\15184\\anaconda3\\lib\\site-packages (from shap) (4.64.0)\n",
      "Requirement already satisfied: pyparsing!=3.0.5,>=2.0.2 in c:\\users\\15184\\anaconda3\\lib\\site-packages (from packaging>20.9->shap) (3.0.4)\n",
      "Requirement already satisfied: colorama in c:\\users\\15184\\anaconda3\\lib\\site-packages (from tqdm>=4.27.0->shap) (0.4.4)\n",
      "Requirement already satisfied: setuptools in c:\\users\\15184\\anaconda3\\lib\\site-packages (from numba->shap) (61.2.0)\n",
      "Requirement already satisfied: llvmlite<0.39,>=0.38.0rc1 in c:\\users\\15184\\anaconda3\\lib\\site-packages (from numba->shap) (0.38.0)\n",
      "Requirement already satisfied: python-dateutil>=2.7.3 in c:\\users\\15184\\anaconda3\\lib\\site-packages (from pandas->shap) (2.8.2)\n",
      "Requirement already satisfied: pytz>=2017.3 in c:\\users\\15184\\anaconda3\\lib\\site-packages (from pandas->shap) (2021.3)\n",
      "Requirement already satisfied: six>=1.5 in c:\\users\\15184\\anaconda3\\lib\\site-packages (from python-dateutil>=2.7.3->pandas->shap) (1.16.0)\n",
      "Requirement already satisfied: threadpoolctl>=2.0.0 in c:\\users\\15184\\anaconda3\\lib\\site-packages (from scikit-learn->shap) (2.2.0)\n",
      "Requirement already satisfied: joblib>=0.11 in c:\\users\\15184\\anaconda3\\lib\\site-packages (from scikit-learn->shap) (1.1.0)\n"
     ]
    }
   ],
   "source": [
    "#!pip3 install shap"
   ]
  },
  {
   "cell_type": "code",
   "execution_count": 16,
   "id": "c4b7284e",
   "metadata": {},
   "outputs": [
    {
     "name": "stdout",
     "output_type": "stream",
     "text": [
      "1/1 [==============================] - 0s 313ms/step\n"
     ]
    },
    {
     "data": {
      "application/vnd.jupyter.widget-view+json": {
       "model_id": "397fe3e97c724c24b5b38c0cac6188c9",
       "version_major": 2,
       "version_minor": 0
      },
      "text/plain": [
       "  0%|          | 0/100 [00:00<?, ?it/s]"
      ]
     },
     "metadata": {},
     "output_type": "display_data"
    },
    {
     "name": "stdout",
     "output_type": "stream",
     "text": [
      "1/1 [==============================] - 0s 218ms/step\n",
      "79/79 [==============================] - 7s 93ms/step\n",
      "1/1 [==============================] - 0s 43ms/step\n",
      "79/79 [==============================] - 7s 91ms/step\n",
      "1/1 [==============================] - 0s 48ms/step\n",
      "79/79 [==============================] - 7s 92ms/step\n",
      "1/1 [==============================] - 0s 45ms/step\n",
      "79/79 [==============================] - 7s 92ms/step\n",
      "1/1 [==============================] - 0s 49ms/step\n",
      "79/79 [==============================] - 7s 92ms/step\n",
      "1/1 [==============================] - 0s 49ms/step\n",
      "79/79 [==============================] - 7s 93ms/step\n",
      "1/1 [==============================] - 0s 47ms/step\n",
      "79/79 [==============================] - 7s 92ms/step\n",
      "1/1 [==============================] - 0s 49ms/step\n",
      "79/79 [==============================] - 7s 93ms/step\n",
      "1/1 [==============================] - 0s 45ms/step\n",
      "79/79 [==============================] - 7s 93ms/step\n",
      "1/1 [==============================] - 0s 47ms/step\n",
      "79/79 [==============================] - 7s 92ms/step\n",
      "1/1 [==============================] - 0s 49ms/step\n",
      "79/79 [==============================] - 7s 92ms/step\n",
      "1/1 [==============================] - 0s 48ms/step\n",
      "79/79 [==============================] - 7s 93ms/step\n",
      "1/1 [==============================] - 0s 50ms/step\n",
      "79/79 [==============================] - 7s 92ms/step\n",
      "1/1 [==============================] - 0s 49ms/step\n",
      "79/79 [==============================] - 7s 92ms/step\n",
      "1/1 [==============================] - 0s 50ms/step\n",
      "79/79 [==============================] - 7s 92ms/step\n",
      "1/1 [==============================] - 0s 49ms/step\n",
      "79/79 [==============================] - 7s 92ms/step\n",
      "1/1 [==============================] - 0s 48ms/step\n",
      "79/79 [==============================] - 7s 92ms/step\n",
      "1/1 [==============================] - 0s 48ms/step\n",
      "79/79 [==============================] - 7s 93ms/step\n",
      "1/1 [==============================] - 0s 49ms/step\n",
      "79/79 [==============================] - 7s 93ms/step\n",
      "1/1 [==============================] - 0s 47ms/step\n",
      "79/79 [==============================] - 7s 92ms/step\n",
      "1/1 [==============================] - 0s 48ms/step\n",
      "79/79 [==============================] - 7s 92ms/step\n",
      "1/1 [==============================] - 0s 49ms/step\n",
      "79/79 [==============================] - 7s 92ms/step\n",
      "1/1 [==============================] - 0s 50ms/step\n",
      "79/79 [==============================] - 7s 93ms/step\n",
      "1/1 [==============================] - 0s 48ms/step\n",
      "79/79 [==============================] - 7s 92ms/step\n",
      "1/1 [==============================] - 0s 46ms/step\n",
      "79/79 [==============================] - 7s 92ms/step\n",
      "1/1 [==============================] - 0s 48ms/step\n",
      "79/79 [==============================] - 7s 93ms/step\n",
      "1/1 [==============================] - 0s 46ms/step\n",
      "79/79 [==============================] - 7s 91ms/step\n",
      "1/1 [==============================] - 0s 46ms/step\n",
      "79/79 [==============================] - 7s 92ms/step\n",
      "1/1 [==============================] - 0s 47ms/step\n",
      "79/79 [==============================] - 7s 93ms/step\n",
      "1/1 [==============================] - 0s 49ms/step\n",
      "79/79 [==============================] - 7s 92ms/step\n",
      "1/1 [==============================] - 0s 48ms/step\n",
      "79/79 [==============================] - 7s 93ms/step\n",
      "1/1 [==============================] - 0s 46ms/step\n",
      "79/79 [==============================] - 7s 92ms/step\n",
      "1/1 [==============================] - 0s 50ms/step\n",
      "79/79 [==============================] - 8s 95ms/step\n",
      "1/1 [==============================] - 0s 47ms/step\n",
      "79/79 [==============================] - 8s 95ms/step\n",
      "1/1 [==============================] - 0s 50ms/step\n",
      "79/79 [==============================] - 7s 93ms/step\n",
      "1/1 [==============================] - 0s 49ms/step\n",
      "79/79 [==============================] - 7s 93ms/step\n",
      "1/1 [==============================] - 0s 48ms/step\n",
      "79/79 [==============================] - 7s 93ms/step\n",
      "1/1 [==============================] - 0s 46ms/step\n",
      "79/79 [==============================] - 8s 95ms/step\n",
      "1/1 [==============================] - 0s 47ms/step\n",
      "79/79 [==============================] - 7s 92ms/step\n",
      "1/1 [==============================] - 0s 46ms/step\n",
      "79/79 [==============================] - 7s 93ms/step\n",
      "1/1 [==============================] - 0s 46ms/step\n",
      "79/79 [==============================] - 7s 92ms/step\n",
      "1/1 [==============================] - 0s 47ms/step\n",
      "79/79 [==============================] - 7s 94ms/step\n",
      "1/1 [==============================] - 0s 55ms/step\n",
      "79/79 [==============================] - 7s 93ms/step\n",
      "1/1 [==============================] - 0s 51ms/step\n",
      "79/79 [==============================] - 7s 95ms/step\n",
      "1/1 [==============================] - 0s 47ms/step\n",
      "79/79 [==============================] - 7s 92ms/step\n",
      "1/1 [==============================] - 0s 46ms/step\n",
      "79/79 [==============================] - 7s 92ms/step\n",
      "1/1 [==============================] - 0s 49ms/step\n",
      "79/79 [==============================] - 7s 92ms/step\n",
      "1/1 [==============================] - 0s 50ms/step\n",
      "79/79 [==============================] - 7s 93ms/step\n",
      "1/1 [==============================] - 0s 49ms/step\n",
      "79/79 [==============================] - 7s 92ms/step\n",
      "1/1 [==============================] - 0s 50ms/step\n",
      "79/79 [==============================] - 7s 92ms/step\n",
      "1/1 [==============================] - 0s 47ms/step\n",
      "79/79 [==============================] - 7s 92ms/step\n",
      "1/1 [==============================] - 0s 48ms/step\n",
      "79/79 [==============================] - 7s 93ms/step\n",
      "1/1 [==============================] - 0s 48ms/step\n",
      "79/79 [==============================] - 7s 93ms/step\n",
      "1/1 [==============================] - 0s 47ms/step\n",
      "79/79 [==============================] - 7s 93ms/step\n",
      "1/1 [==============================] - 0s 49ms/step\n",
      "79/79 [==============================] - 7s 93ms/step\n",
      "1/1 [==============================] - 0s 48ms/step\n",
      "79/79 [==============================] - 7s 92ms/step\n",
      "1/1 [==============================] - 0s 46ms/step\n",
      "79/79 [==============================] - 8s 95ms/step\n",
      "1/1 [==============================] - 0s 45ms/step\n",
      "79/79 [==============================] - 7s 93ms/step\n",
      "1/1 [==============================] - 0s 46ms/step\n",
      "79/79 [==============================] - 7s 92ms/step\n",
      "1/1 [==============================] - 0s 46ms/step\n",
      "79/79 [==============================] - 7s 93ms/step\n",
      "1/1 [==============================] - 0s 46ms/step\n",
      "79/79 [==============================] - 7s 93ms/step\n",
      "1/1 [==============================] - 0s 47ms/step\n",
      "79/79 [==============================] - 7s 93ms/step\n",
      "1/1 [==============================] - 0s 49ms/step\n",
      "79/79 [==============================] - 7s 92ms/step\n",
      "1/1 [==============================] - 0s 45ms/step\n",
      "79/79 [==============================] - 7s 93ms/step\n",
      "1/1 [==============================] - 0s 47ms/step\n",
      "79/79 [==============================] - 7s 93ms/step\n",
      "1/1 [==============================] - 0s 49ms/step\n",
      "79/79 [==============================] - 7s 93ms/step\n",
      "1/1 [==============================] - 0s 48ms/step\n",
      "79/79 [==============================] - 7s 94ms/step\n",
      "1/1 [==============================] - 0s 47ms/step\n",
      "79/79 [==============================] - 7s 93ms/step\n",
      "1/1 [==============================] - 0s 48ms/step\n",
      "79/79 [==============================] - 7s 94ms/step\n",
      "1/1 [==============================] - 0s 47ms/step\n",
      "79/79 [==============================] - 7s 93ms/step\n",
      "1/1 [==============================] - 0s 46ms/step\n",
      "79/79 [==============================] - 7s 93ms/step\n",
      "1/1 [==============================] - 0s 47ms/step\n",
      "79/79 [==============================] - 8s 95ms/step\n",
      "1/1 [==============================] - 0s 47ms/step\n",
      "79/79 [==============================] - 7s 95ms/step\n",
      "1/1 [==============================] - 0s 47ms/step\n",
      "79/79 [==============================] - 7s 94ms/step\n",
      "1/1 [==============================] - 0s 48ms/step\n",
      "79/79 [==============================] - 7s 94ms/step\n",
      "1/1 [==============================] - 0s 47ms/step\n",
      "79/79 [==============================] - 7s 95ms/step\n",
      "1/1 [==============================] - 0s 48ms/step\n",
      "79/79 [==============================] - 7s 93ms/step\n"
     ]
    },
    {
     "name": "stdout",
     "output_type": "stream",
     "text": [
      "1/1 [==============================] - 0s 46ms/step\n",
      "79/79 [==============================] - 7s 93ms/step\n",
      "1/1 [==============================] - 0s 46ms/step\n",
      "79/79 [==============================] - 7s 93ms/step\n",
      "1/1 [==============================] - 0s 50ms/step\n",
      "79/79 [==============================] - 7s 94ms/step\n",
      "1/1 [==============================] - 0s 47ms/step\n",
      "79/79 [==============================] - 7s 93ms/step\n",
      "1/1 [==============================] - 0s 47ms/step\n",
      "79/79 [==============================] - 7s 93ms/step\n",
      "1/1 [==============================] - 0s 48ms/step\n",
      "79/79 [==============================] - 7s 95ms/step\n",
      "1/1 [==============================] - 0s 46ms/step\n",
      "79/79 [==============================] - 7s 94ms/step\n",
      "1/1 [==============================] - 0s 47ms/step\n",
      "79/79 [==============================] - 8s 96ms/step\n",
      "1/1 [==============================] - 0s 47ms/step\n",
      "79/79 [==============================] - 7s 94ms/step\n",
      "1/1 [==============================] - 0s 52ms/step\n",
      "79/79 [==============================] - 8s 99ms/step\n",
      "1/1 [==============================] - 0s 48ms/step\n",
      "79/79 [==============================] - 8s 97ms/step\n",
      "1/1 [==============================] - 0s 50ms/step\n",
      "79/79 [==============================] - 8s 95ms/step\n",
      "1/1 [==============================] - 0s 49ms/step\n",
      "79/79 [==============================] - 8s 95ms/step\n",
      "1/1 [==============================] - 0s 49ms/step\n",
      "79/79 [==============================] - 8s 95ms/step\n",
      "1/1 [==============================] - 0s 50ms/step\n",
      "79/79 [==============================] - 8s 95ms/step\n",
      "1/1 [==============================] - 0s 52ms/step\n",
      "79/79 [==============================] - 7s 95ms/step\n",
      "1/1 [==============================] - 0s 50ms/step\n",
      "79/79 [==============================] - 8s 95ms/step\n",
      "1/1 [==============================] - 0s 51ms/step\n",
      "79/79 [==============================] - 7s 95ms/step\n",
      "1/1 [==============================] - 0s 51ms/step\n",
      "79/79 [==============================] - 8s 98ms/step\n",
      "1/1 [==============================] - 0s 49ms/step\n",
      "79/79 [==============================] - 8s 95ms/step\n",
      "1/1 [==============================] - 0s 51ms/step\n",
      "79/79 [==============================] - 7s 95ms/step\n",
      "1/1 [==============================] - 0s 50ms/step\n",
      "79/79 [==============================] - 8s 95ms/step\n",
      "1/1 [==============================] - 0s 50ms/step\n",
      "79/79 [==============================] - 7s 93ms/step\n"
     ]
    },
    {
     "data": {
      "image/png": "[encoded data removed]",
      "text/plain": [
       "<Figure size 576x684 with 1 Axes>"
      ]
     },
     "metadata": {
      "needs_background": "light"
     },
     "output_type": "display_data"
    }
   ],
   "source": [
    "import shap\n",
    "\n",
    "explainer = shap.KernelExplainer(rnnmodel.predict, shap.kmeans(x_train[:10000],25) )\n",
    "# send the test data\n",
    "shap_values = explainer.shap_values(test_data[:100], nsamples=100)\n",
    "\n"
   ]
  },
  {
   "cell_type": "code",
   "execution_count": 21,
   "id": "2ee7c895",
   "metadata": {},
   "outputs": [
    {
     "data": {
      "image/png": "[encoded data removed]",
      "text/plain": [
       "<Figure size 576x684 with 1 Axes>"
      ]
     },
     "metadata": {
      "needs_background": "light"
     },
     "output_type": "display_data"
    }
   ],
   "source": [
    "shap.summary_plot(shap_values, test_data[:100])"
   ]
  },
  {
   "cell_type": "code",
   "execution_count": 17,
   "id": "8573c1a2",
   "metadata": {},
   "outputs": [
    {
     "name": "stdout",
     "output_type": "stream",
     "text": [
      "Requirement already satisfied: lime in c:\\users\\15184\\anaconda3\\lib\\site-packages (0.2.0.1)\n",
      "Requirement already satisfied: numpy in c:\\users\\15184\\anaconda3\\lib\\site-packages (from lime) (1.21.5)\n",
      "Requirement already satisfied: scikit-learn>=0.18 in c:\\users\\15184\\anaconda3\\lib\\site-packages (from lime) (1.0.2)\n",
      "Requirement already satisfied: scipy in c:\\users\\15184\\anaconda3\\lib\\site-packages (from lime) (1.7.3)\n",
      "Requirement already satisfied: matplotlib in c:\\users\\15184\\anaconda3\\lib\\site-packages (from lime) (3.5.1)\n",
      "Requirement already satisfied: tqdm in c:\\users\\15184\\anaconda3\\lib\\site-packages (from lime) (4.64.0)\n",
      "Requirement already satisfied: scikit-image>=0.12 in c:\\users\\15184\\anaconda3\\lib\\site-packages (from lime) (0.19.2)\n",
      "Requirement already satisfied: imageio>=2.4.1 in c:\\users\\15184\\anaconda3\\lib\\site-packages (from scikit-image>=0.12->lime) (2.26.0)\n",
      "Requirement already satisfied: tifffile>=2019.7.26 in c:\\users\\15184\\anaconda3\\lib\\site-packages (from scikit-image>=0.12->lime) (2021.7.2)\n",
      "Requirement already satisfied: PyWavelets>=1.1.1 in c:\\users\\15184\\anaconda3\\lib\\site-packages (from scikit-image>=0.12->lime) (1.3.0)\n",
      "Requirement already satisfied: pillow!=7.1.0,!=7.1.1,!=8.3.0,>=6.1.0 in c:\\users\\15184\\anaconda3\\lib\\site-packages (from scikit-image>=0.12->lime) (9.4.0)\n",
      "Requirement already satisfied: packaging>=20.0 in c:\\users\\15184\\anaconda3\\lib\\site-packages (from scikit-image>=0.12->lime) (21.3)\n",
      "Requirement already satisfied: networkx>=2.2 in c:\\users\\15184\\anaconda3\\lib\\site-packages (from scikit-image>=0.12->lime) (2.7.1)\n",
      "Requirement already satisfied: pyparsing!=3.0.5,>=2.0.2 in c:\\users\\15184\\anaconda3\\lib\\site-packages (from packaging>=20.0->scikit-image>=0.12->lime) (3.0.4)\n",
      "Requirement already satisfied: joblib>=0.11 in c:\\users\\15184\\anaconda3\\lib\\site-packages (from scikit-learn>=0.18->lime) (1.1.0)\n",
      "Requirement already satisfied: threadpoolctl>=2.0.0 in c:\\users\\15184\\anaconda3\\lib\\site-packages (from scikit-learn>=0.18->lime) (2.2.0)\n",
      "Requirement already satisfied: python-dateutil>=2.7 in c:\\users\\15184\\anaconda3\\lib\\site-packages (from matplotlib->lime) (2.8.2)\n",
      "Requirement already satisfied: kiwisolver>=1.0.1 in c:\\users\\15184\\anaconda3\\lib\\site-packages (from matplotlib->lime) (1.3.2)\n",
      "Requirement already satisfied: fonttools>=4.22.0 in c:\\users\\15184\\anaconda3\\lib\\site-packages (from matplotlib->lime) (4.25.0)\n",
      "Requirement already satisfied: cycler>=0.10 in c:\\users\\15184\\anaconda3\\lib\\site-packages (from matplotlib->lime) (0.11.0)\n",
      "Requirement already satisfied: six>=1.5 in c:\\users\\15184\\anaconda3\\lib\\site-packages (from python-dateutil>=2.7->matplotlib->lime) (1.16.0)\n",
      "Requirement already satisfied: colorama in c:\\users\\15184\\anaconda3\\lib\\site-packages (from tqdm->lime) (0.4.4)\n"
     ]
    }
   ],
   "source": [
    "#!pip install lime"
   ]
  },
  {
   "cell_type": "code",
   "execution_count": 20,
   "id": "6f7d4d47",
   "metadata": {},
   "outputs": [
    {
     "name": "stdout",
     "output_type": "stream",
     "text": [
      "157/157 [==============================] - 16s 101ms/step\n",
      "English is class number 2\n",
      "Explanation for class 0\n",
      "('again', -0.003536393504634475)\n",
      "('once', -0.0035285228415352027)\n",
      "('thank', -0.003449498804404102)\n",
      "('you', -0.0032084473792025146)\n",
      "('have', -0.003089608016792072)\n",
      "('forget', -0.0027810676804229948)\n",
      "('great', -0.002393633049163042)\n",
      "\n",
      "Explanation for class 1\n",
      "('you', -6.473239262305321e-05)\n",
      "('i', -6.249195024119477e-05)\n",
      "('have', -6.195570615097627e-05)\n",
      "('again', -5.9449295497665257e-05)\n",
      "('once', -5.090628179643131e-05)\n",
      "('forget', -3.2555079645064424e-05)\n",
      "('thank', -2.5196992923054602e-05)\n",
      "\n",
      "Explanation for class 2\n",
      "('again', -0.003536393504634475)\n",
      "('once', -0.0035285228415352027)\n",
      "('thank', -0.003449498804404102)\n",
      "('you', -0.0032084473792025146)\n",
      "('have', -0.003089608016792072)\n",
      "('forget', -0.0027810676804229948)\n",
      "('great', -0.002393633049163042)\n",
      "\n",
      "Explanation for class 3\n",
      "('again', -0.003536393504634475)\n",
      "('once', -0.0035285228415352027)\n",
      "('thank', -0.003449498804404102)\n",
      "('you', -0.0032084473792025146)\n",
      "('have', -0.003089608016792072)\n",
      "('forget', -0.0027810676804229948)\n",
      "('great', -0.002393633049163042)\n",
      "\n",
      "Explanation for class 4\n",
      "('again', -0.003536393504634475)\n",
      "('once', -0.0035285228415352027)\n",
      "('thank', -0.003449498804404102)\n",
      "('you', -0.0032084473792025146)\n",
      "('have', -0.003089608016792072)\n",
      "('forget', -0.0027810676804229948)\n",
      "('great', -0.002393633049163042)\n",
      "\n",
      "Explanation for class 5\n",
      "('again', -0.003536393504634475)\n",
      "('once', -0.0035285228415352027)\n",
      "('thank', -0.003449498804404102)\n",
      "('you', -0.0032084473792025146)\n",
      "('have', -0.003089608016792072)\n",
      "('forget', -0.0027810676804229948)\n",
      "('great', -0.002393633049163042)\n",
      "\n",
      "Explanation for class 6\n",
      "('again', -0.003536393504634475)\n",
      "('once', -0.0035285228415352027)\n",
      "('thank', -0.003449498804404102)\n",
      "('you', -0.0032084473792025146)\n",
      "('have', -0.003089608016792072)\n",
      "('forget', -0.0027810676804229948)\n",
      "('great', -0.002393633049163042)\n",
      "\n",
      "Explanation for class 7\n",
      "('again', -0.003536393504634475)\n",
      "('once', -0.0035285228415352027)\n",
      "('thank', -0.003449498804404102)\n",
      "('you', -0.0032084473792025146)\n",
      "('have', -0.003089608016792072)\n",
      "('forget', -0.0027810676804229948)\n",
      "('great', -0.002393633049163042)\n",
      "\n",
      "Explanation for class 8\n",
      "('again', -0.003536393504634475)\n",
      "('once', -0.0035285228415352027)\n",
      "('thank', -0.003449498804404102)\n",
      "('you', -0.0032084473792025146)\n",
      "('have', -0.003089608016792072)\n",
      "('forget', -0.0027810676804229948)\n",
      "('great', -0.002393633049163042)\n",
      "\n",
      "Explanation for class 9\n",
      "('again', -0.003536393504634475)\n",
      "('once', -0.0035285228415352027)\n",
      "('thank', -0.003449498804404102)\n",
      "('you', -0.0032084473792025146)\n",
      "('have', -0.003089608016792072)\n",
      "('forget', -0.0027810676804229948)\n",
      "('great', -0.002393633049163042)\n"
     ]
    }
   ],
   "source": [
    "from lime.lime_text import LimeTextExplainer\n",
    "explainer = LimeTextExplainer(class_names=list(range(0, 9)))\n",
    "\n",
    "\n",
    "def new_predict(texts):\n",
    "    _seq = tokenizer.texts_to_sequences(texts)\n",
    "    _text_data = pad_sequences(_seq, maxlen=MAX_SEQUENCE_LENGTH)\n",
    "    return rnnmodel.predict(_text_data)\n",
    "\n",
    "\n",
    "exp = explainer.explain_instance(\n",
    "    'forget reservations thank great company i have cancelled flighted flight once again thank you',\n",
    "    new_predict,\n",
    "    num_features=7,\n",
    "    labels=[0,1,2,3,4,5,6,7,8,9])\n",
    "\n",
    "print(\"English is class number 2\")\n",
    "print('Explanation for class 0')\n",
    "print('\\n'.join(map(str, exp.as_list(label=0))))\n",
    "print()\n",
    "print('Explanation for class 1')\n",
    "print('\\n'.join(map(str, exp.as_list(label=1))))\n",
    "print()\n",
    "print('Explanation for class 2')\n",
    "print('\\n'.join(map(str, exp.as_list(label=0))))\n",
    "print()\n",
    "print('Explanation for class 3')\n",
    "print('\\n'.join(map(str, exp.as_list(label=0))))\n",
    "print()\n",
    "print('Explanation for class 4')\n",
    "print('\\n'.join(map(str, exp.as_list(label=0))))\n",
    "print()\n",
    "print('Explanation for class 5')\n",
    "print('\\n'.join(map(str, exp.as_list(label=0))))\n",
    "print()\n",
    "print('Explanation for class 6')\n",
    "print('\\n'.join(map(str, exp.as_list(label=0))))\n",
    "print()\n",
    "print('Explanation for class 7')\n",
    "print('\\n'.join(map(str, exp.as_list(label=0))))\n",
    "print()\n",
    "print('Explanation for class 8')\n",
    "print('\\n'.join(map(str, exp.as_list(label=0))))\n",
    "print()\n",
    "print('Explanation for class 9')\n",
    "print('\\n'.join(map(str, exp.as_list(label=0))))"
   ]
  },
  {
   "cell_type": "code",
   "execution_count": null,
   "id": "2ca5ad92",
   "metadata": {},
   "outputs": [],
   "source": [
    "print(test_labels)"
   ]
  },
  {
   "cell_type": "code",
   "execution_count": null,
   "id": "cd291562",
   "metadata": {},
   "outputs": [],
   "source": []
  }
 ],
 "metadata": {
  "kernelspec": {
   "display_name": "Python 3 (ipykernel)",
   "language": "python",
   "name": "python3"
  },
  "language_info": {
   "codemirror_mode": {
    "name": "ipython",
    "version": 3
   },
   "file_extension": ".py",
   "mimetype": "text/x-python",
   "name": "python",
   "nbconvert_exporter": "python",
   "pygments_lexer": "ipython3",
   "version": "3.9.12"
  }
 },
 "nbformat": 4,
 "nbformat_minor": 5
}
